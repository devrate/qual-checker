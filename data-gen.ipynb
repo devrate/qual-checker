{
 "cells": [
  {
   "cell_type": "markdown",
   "id": "normal-belief",
   "metadata": {},
   "source": [
    "# QUAL Check - DevRate Data Generation Tool\n",
    "\n",
    "----\n",
    "\n",
    "\n",
    "Let's install required libraries for runnign the script."
   ]
  },
  {
   "cell_type": "code",
   "execution_count": 1,
   "id": "based-editing",
   "metadata": {},
   "outputs": [
    {
     "name": "stdout",
     "output_type": "stream",
     "text": [
      "Requirement already satisfied: gitpython in /opt/conda/lib/python3.7/site-packages (3.1.14)\n",
      "Requirement already satisfied: gitdb<5,>=4.0.1 in /opt/conda/lib/python3.7/site-packages (from gitpython) (4.0.5)\n",
      "Requirement already satisfied: smmap<4,>=3.0.1 in /opt/conda/lib/python3.7/site-packages (from gitdb<5,>=4.0.1->gitpython) (3.0.5)\n"
     ]
    }
   ],
   "source": [
    "!pip install gitpython"
   ]
  },
  {
   "cell_type": "markdown",
   "id": "promising-setup",
   "metadata": {},
   "source": [
    "### Initialization of the Script\n",
    "\n",
    "First we import the installed libraires."
   ]
  },
  {
   "cell_type": "code",
   "execution_count": 2,
   "id": "floral-dutch",
   "metadata": {},
   "outputs": [],
   "source": [
    "from git import *\n",
    "import subprocess\n",
    "import os\n",
    "import re\n",
    "import io\n",
    "import time\n",
    "import datetime"
   ]
  },
  {
   "cell_type": "code",
   "execution_count": 3,
   "id": "unavailable-brain",
   "metadata": {},
   "outputs": [
    {
     "data": {
      "text/plain": [
       "256"
      ]
     },
     "execution_count": 3,
     "metadata": {},
     "output_type": "execute_result"
    }
   ],
   "source": [
    "os.system('sudo ntpdate -s time.nist.gov')\n",
    "os.system('timedatectl set-ntp 1')"
   ]
  },
  {
   "cell_type": "markdown",
   "id": "suburban-missouri",
   "metadata": {},
   "source": [
    "Next we need to define the helper functions.\n",
    "\n",
    "#### Printing Functions"
   ]
  },
  {
   "cell_type": "code",
   "execution_count": 4,
   "id": "retained-collection",
   "metadata": {},
   "outputs": [],
   "source": [
    "def print_red(str):\n",
    "    print ('\\033[91m{}\\033[00m'.format(str))\n",
    "def print_green(str):\n",
    "    print ('\\033[92m{}\\033[00m'.format(str))\n",
    "def print_yellow(str):\n",
    "    print ('\\033[93m{}\\033[00m'.format(str))\n",
    "def print_blue(str):\n",
    "    print ('\\033[94m{}\\033[00m'.format(str))\n",
    "def print_purple(str):\n",
    "    print ('\\033[95m{}\\033[00m'.format(str))\n",
    "def print_cyan(str):\n",
    "    print(\"\\033[96m {}\\033[00m\" .format(str))\n",
    "def print_lightgray(str):\n",
    "    print(\"\\033[97m {}\\033[00m\" .format(str))\n",
    "def print_black(str):\n",
    "    print(\"\\033[98m {}\\033[00m\" .format(str))\n",
    "\n",
    "def print_format_table():\n",
    "    for style in range(8):\n",
    "        for foreground in range(30, 38):\n",
    "            s1 = ''\n",
    "            for background in range(40, 48):\n",
    "                format = ';'.join([str(style), str(foreground), str(background)])\n",
    "                s1 += '\\x1b[%sm %s \\x1b[0m' % (format, format)\n",
    "            print(s1)\n",
    "        print('\\n')"
   ]
  },
  {
   "cell_type": "markdown",
   "id": "separate-there",
   "metadata": {},
   "source": [
    "### Retrieve GIT Commmits\n",
    "\n",
    "Let's define configurations as variables.\n",
    "\n",
    "#### Declare Variables"
   ]
  },
  {
   "cell_type": "code",
   "execution_count": 5,
   "id": "personalized-possible",
   "metadata": {},
   "outputs": [],
   "source": [
    "project_name = 'open-event-frontend'"
   ]
  },
  {
   "cell_type": "markdown",
   "id": "qualified-shade",
   "metadata": {},
   "source": [
    "Now we can retieve the commits list from repo.\n",
    "\n",
    "#### Get Commits List"
   ]
  },
  {
   "cell_type": "code",
   "execution_count": 6,
   "id": "integrated-month",
   "metadata": {},
   "outputs": [],
   "source": [
    "repo = Repo(\"repos/%s\" % (project_name))\n",
    "assert repo.bare == False"
   ]
  },
  {
   "cell_type": "code",
   "execution_count": 7,
   "id": "explicit-hotel",
   "metadata": {},
   "outputs": [
    {
     "name": "stdout",
     "output_type": "stream",
     "text": [
      "/home/jupyter\n",
      "Total Commits in the Git Repo: 728\n",
      "cfce6d291c553f9c33faf8a6307e3ec3c0d29fd6\n",
      "25b1a767afe7d52d95b7757f902883d9bf5adfd1\n"
     ]
    }
   ],
   "source": [
    "print(os.getcwd())\n",
    "\n",
    "git = repo.git\n",
    "logs_master = git.execute([\"git\", \"log\", \"--first-parent\", \"development\", \"--after=\\\"2020-01-01\\\"\", \"--before=\\\"2021-01-01\\\"\", \"--pretty=format:%H\", \"--invert-grep\", \"--grep=chore(deps-dev)\"])\n",
    "\n",
    "commit_list = logs_master.split('\\n')\n",
    "\n",
    "print(\"Total Commits in the Git Repo: %d\"%len(commit_list))\n",
    "\n",
    "print(commit_list[0])\n",
    "\n",
    "commit_list.reverse()\n",
    "\n",
    "print(commit_list[0])\n",
    "\n",
    "startat = 1\n",
    "stopat = len(commit_list)"
   ]
  },
  {
   "cell_type": "markdown",
   "id": "smart-specification",
   "metadata": {},
   "source": [
    "#### Write commits SHAs to a file"
   ]
  },
  {
   "cell_type": "code",
   "execution_count": 8,
   "id": "indie-volunteer",
   "metadata": {},
   "outputs": [
    {
     "name": "stdout",
     "output_type": "stream",
     "text": [
      "Git Repo Path: repos/open-event-frontend\n"
     ]
    }
   ],
   "source": [
    "repo_path = \"repos/%s\" % project_name\n",
    "print('Git Repo Path: ' + repo_path)"
   ]
  },
  {
   "cell_type": "code",
   "execution_count": 9,
   "id": "polar-basketball",
   "metadata": {},
   "outputs": [
    {
     "name": "stdout",
     "output_type": "stream",
     "text": [
      "\u001b[92mGit commit hash tags written to open-event-frontend_commits_sha file successfully.\n",
      "\u001b[00m\n"
     ]
    }
   ],
   "source": [
    "file_sha = io.open(\"SHAs/\" + project_name + \"_commits_sha.txt\", 'a+')\n",
    "file_sha.seek(0)\n",
    "\n",
    "if not file_sha.read(1):\n",
    "    for item in commit_list:\n",
    "        file_sha.writelines(item + \"\\n\")\n",
    "    print_green(\"Git commit hash tags written to \" + project_name + \"_commits_sha file successfully.\\n\")\n",
    "else:\n",
    "    print_green(project_name + \".txt File found and opened.\\n\")"
   ]
  },
  {
   "cell_type": "markdown",
   "id": "annoying-beverage",
   "metadata": {},
   "source": [
    "Let's run analysis for every commit in the commit list.\n",
    "\n",
    "### Trigger SonarQube Analysis"
   ]
  },
  {
   "cell_type": "markdown",
   "id": "solid-cooperation",
   "metadata": {},
   "source": [
    "#### Date Utlities"
   ]
  },
  {
   "cell_type": "code",
   "execution_count": 10,
   "id": "modified-durham",
   "metadata": {},
   "outputs": [],
   "source": [
    "def set_system_date(setdate):\n",
    "    print_blue(\"Date changed to: %s\"%setdate)\n",
    "    os.system('sudo date -s \"%s\"' %setdate) \n",
    "\n",
    "def write_date(writedate):\n",
    "    with io.open(project_name + \"-date.txt\", 'w') as datefile:\n",
    "        datefile.writelines(str(writedate))"
   ]
  },
  {
   "cell_type": "code",
   "execution_count": 11,
   "id": "smoking-independence",
   "metadata": {},
   "outputs": [
    {
     "name": "stdout",
     "output_type": "stream",
     "text": [
      "Beginning date-time: 2021-03-21 23:38:40.201178\n"
     ]
    }
   ],
   "source": [
    "time_start = datetime.datetime.now()\n",
    "real_date = time_start\n",
    "\n",
    "time_count_second_prev_commits = 0\n",
    "time_count_date_curr_commit_start = datetime.datetime.now()\n",
    "time_count_date_curr_commit_end = datetime.datetime.now()\n",
    "\n",
    "def count_time(isstart):\n",
    "    global time_count_second_prev_commits\n",
    "    global time_count_date_curr_commit_start\n",
    "    global time_count_date_curr_commit_end\n",
    "\n",
    "    if isstart == 1: \n",
    "        time_count_date_curr_commit_start = datetime.datetime.now()\n",
    "    elif isstart == 0: \n",
    "        time_count_date_curr_commit_end = datetime.datetime.now()\n",
    "        time_diff_seconds = (time_count_date_curr_commit_end - time_count_date_curr_commit_start).seconds\n",
    "        time_count_second_prev_commits = time_count_second_prev_commits + time_diff_seconds\n",
    "    else:\n",
    "        print_red(\"Wrong value passed to isstart of count_time(isstart)!\")\n",
    "\n",
    "count_time(1)\n",
    "print(\"Beginning date-time: \" + str(real_date))\n",
    "\n",
    "def print_time_estimation():\n",
    "    global time_count_second_prev_commits\n",
    "    hours, remainder = divmod(time_count_second_prev_commits, 3600)\n",
    "    minutes, seconds = divmod(remainder, 60)\n",
    "    print_blue('Elapsed Time for analysis: %d Hours : %d Minutes : %d Seconds'%(hours, minutes, seconds))\n",
    "\n",
    "    if count > startat and count < stopat:\n",
    "        required_time = time_count_second_prev_commits/(count-startat)\n",
    "        required_time = required_time * (stopat-count)\n",
    "        hours, remainder = divmod(required_time, 3600)\n",
    "        minutes, seconds = divmod(remainder, 60)\n",
    "        print_blue('Estimated Time to finish:  %d Hours : %d Minutes : %d Seconds' % (hours, minutes, seconds))\n",
    "\n",
    "\n",
    "def get_commit_date():\n",
    "    if commit_date_mode == 1: \n",
    "        c_date = git.execute([\"git\", \"log\", \"-1\", \"--date=local\", \"--pretty=format:%cd\"])\n",
    "        c_date = datetime.datetime.strptime(c_date, '%a %b %d %H:%M:%S %Y')\n",
    "        return c_date\n",
    "    elif commit_date_mode == 2:\n",
    "        if count == 1:\n",
    "            currentdate = initdate\n",
    "            write_date(currentdate)\n",
    "        else:\n",
    "            with io.open(project_name + \"-date.txt\", 'r') as datefile:\n",
    "                udate = datefile.readline()\n",
    "                currentdate = datetime.datetime.strptime(udate, '%Y-%m-%d %H:%M:%S')\n",
    "            currentdate = currentdate + datetime.timedelta(days=1)\n",
    "            write_date(currentdate)\n",
    "        return currentdate\n",
    "    else:\n",
    "        print_red(\"Wrong value for commit_date_mode!\")"
   ]
  },
  {
   "cell_type": "code",
   "execution_count": null,
   "id": "attempted-porter",
   "metadata": {},
   "outputs": [
    {
     "name": "stdout",
     "output_type": "stream",
     "text": [
      "\u001b[92mGit commit cleaned: untraced sonar property file\u001b[00m\n",
      "\u001b[94mGit repository open-event-frontend moved to commit: 1, hash: 25b1a767afe7d52d95b7757f902883d9bf5adfd1\u001b[00m\n",
      "\u001b[94mWaiting for background task to finish.\u001b[00m\n",
      "\u001b[94mtime_count_second_prev_commits: 1 seconds\u001b[00m\n",
      "\u001b[94mDate changed to: 2020-01-02 04:20:25\u001b[00m\n",
      "\u001b[92mStarting analysing the project with sonar-scanner ...\u001b[00m\n",
      "\u001b[92mCompleted: sonar-scanner Check.\u001b[00m\n",
      "\u001b[94mElapsed Time for analysis: 0 Hours : 1 Minutes : 0 Seconds\u001b[00m\n",
      "-----------------------------------------------------------------------------------\n",
      "\u001b[92mGit commit cleaned: untraced sonar property file\u001b[00m\n",
      "\u001b[94mGit repository open-event-frontend moved to commit: 2, hash: e8cb96bd6ef66978b6a03a2737312ff5d3637a26\u001b[00m\n",
      "\u001b[94mWaiting for background task to finish.\u001b[00m\n",
      "\u001b[94mTime for last analysis: 60.0 seconds\u001b[00m\n",
      "\u001b[94mWaiting for 60.0 seconds\u001b[00m\n"
     ]
    }
   ],
   "source": [
    "count = 1\n",
    "count_time(0)\n",
    "\n",
    "flag = 1\n",
    "perform_sonar_analysis = 1\n",
    "commit_date_mode = 1\n",
    "update_date = 1\n",
    "waiting_factor = 1\n",
    "\n",
    "os.chdir(repo_path)\n",
    "\n",
    "file_sha.seek(0)\n",
    "\n",
    "while flag == 1:\n",
    "    commit_hash = file_sha.readline()\n",
    "    commit_hash = commit_hash.replace('\\r', '').replace('\\n', '')\n",
    "    if not commit_hash:\n",
    "        flag = 0\n",
    "        print_green(\"Reached to the latest commit.\")\n",
    "    else:\n",
    "        if count < startat:\n",
    "            print_red(\"Skipped commit %d for analysis.\" % count)\n",
    "\n",
    "        elif startat <= count <= stopat:\n",
    "            count_time(1)\n",
    "            \n",
    "            git.execute([\"git\", \"clean\", \"-df\"])\n",
    "            print_green(\"Git commit cleaned: untraced sonar property file\")\n",
    "\n",
    "            git.execute([\"git\", \"checkout\", commit_hash])\n",
    "            time.sleep(0.2)\n",
    "            print_blue(\"Git repository %s moved to commit: %d, hash: %s\" % (project_name, count, commit_hash))\n",
    "\n",
    "            count_time(0)\n",
    "\n",
    "            print_blue('Waiting for background task to finish.')\n",
    "            if time_count_second_prev_commits != 0 and (count-startat) != 0:\n",
    "                print_blue('Time for last analysis: ' + str(time_count_second_prev_commits/(count-startat)) + ' seconds')\n",
    "                waiting_time = (time_count_second_prev_commits/(count-startat))/waiting_factor\n",
    "                if waiting_time > 3:\n",
    "                    print_blue('Waiting for '+ str(waiting_time) + ' seconds')\n",
    "                    time.sleep(waiting_time)\n",
    "                else:\n",
    "                    print_blue('Waiting for minimum 3 seconds.')\n",
    "                    time.sleep(3)\n",
    "            else:\n",
    "                print_blue('time_count_second_prev_commits: ' + str(time_count_second_prev_commits) + ' seconds')\n",
    "                time.sleep(3)\n",
    "\n",
    "            commit_date = get_commit_date()\n",
    "            set_system_date(commit_date)\n",
    "            count_time(1) # start recording time\n",
    "\n",
    "            if perform_sonar_analysis == 1:\n",
    "                print_green(\"Starting analysing the project with sonar-scanner ...\")\n",
    "                subprocess.call(\"sonar-scanner -Dsonar.projectKey=open-event-frontend -Dsonar.projectVersion=%d -Dsonar.sources=. -Dsonar.host.url=http://34.125.191.212 -Dsonar.login=caa8c1d2448d5ea545d1df25095351c5290f0c69\"%(count), shell=True)\n",
    "                print_green(\"Completed: sonar-scanner Check.\")\n",
    "            else:\n",
    "                print_red('Skipped Sonar-Scanner Analysis: Set perform_sonar_analysis = 1 to activate')\n",
    "\n",
    "        elif count > stopat:\n",
    "            print_green(\"Checked from Commit %d - %d\" % (startat, stopat))\n",
    "            flag = 0\n",
    "            break\n",
    "\n",
    "        count_time(0)\n",
    "        print_time_estimation()\n",
    "        count = count + 1\n",
    "\n",
    "    print('-----------------------------------------------------------------------------------')\n",
    "\n",
    "if update_date == 1:\n",
    "    file_sha.close()\n",
    "    estimated_date = real_date + datetime.timedelta(0, time_count_second_prev_commits)\n",
    "    time.sleep(5)\n",
    "    set_system_date(estimated_date)\n",
    "\n",
    "    os.system('sudo ntpdate -s time.nist.gov')\n",
    "    os.system('timedatectl set-ntp 1')\n",
    "    print(\"Auto-update of system time enabled.\")\n",
    "    \n",
    "else:\n",
    "    print_red(\"Date update is disabled!\")\n",
    "print_red('=============================== ANALYSIS COMPLETED ================================')"
   ]
  }
 ],
 "metadata": {
  "environment": {
   "name": "tf2-gpu.2-3.m65",
   "type": "gcloud",
   "uri": "gcr.io/deeplearning-platform-release/tf2-gpu.2-3:m65"
  },
  "kernelspec": {
   "display_name": "Python 3",
   "language": "python",
   "name": "python3"
  },
  "language_info": {
   "codemirror_mode": {
    "name": "ipython",
    "version": 3
   },
   "file_extension": ".py",
   "mimetype": "text/x-python",
   "name": "python",
   "nbconvert_exporter": "python",
   "pygments_lexer": "ipython3",
   "version": "3.7.10"
  }
 },
 "nbformat": 4,
 "nbformat_minor": 5
}
